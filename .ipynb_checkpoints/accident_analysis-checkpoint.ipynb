{
 "cells": [
  {
   "cell_type": "markdown",
   "metadata": {},
   "source": [
    "# Assignment 3 "
   ]
  },
  {
   "cell_type": "code",
   "execution_count": 2,
   "metadata": {
    "collapsed": false
   },
   "outputs": [],
   "source": [
    "# library \n",
    "library(dplyr)"
   ]
  },
  {
   "cell_type": "markdown",
   "metadata": {},
   "source": [
    "## Melbourne Vehicle Road Accident Analysis\n",
    "#### Loading data files"
   ]
  },
  {
   "cell_type": "code",
   "execution_count": 3,
   "metadata": {
    "collapsed": true
   },
   "outputs": [],
   "source": [
    "master <- read.csv('accident/ACCIDENT.csv')\n",
    "location <- read.csv('accident/ACCIDENT_LOCATION.csv')\n",
    "exact_location <- read.csv('accident/NODE.csv')\n",
    "weather <- read.csv('accident/ATMOSPHERIC_COND.csv')\n",
    "road_surface <- read.csv('accident/ROAD_SURFACE_COND.csv')\n",
    "vehicle_type <- read.csv('accident/VEHICLE.csv')"
   ]
  },
  {
   "cell_type": "markdown",
   "metadata": {},
   "source": [
    "### Data Description\n",
    "\n",
    "| Data Name | Description|\n",
    "|-----------|------------|\n",
    "|   master  | Contains data and time of accident, accident type and speed zone|\n",
    "|   location  | Road name of accident |\n",
    "|   exact_location  | Contains the coordinate of the accident |\n",
    "|   weather  | Atmospheric condition of the day |\n",
    "|   road_surface  | Road condition at the time of the accident |\n",
    "|   vehicle_type  | Vehicle information |\n",
    "\n",
    "#### View master"
   ]
  },
  {
   "cell_type": "code",
   "execution_count": 4,
   "metadata": {
    "collapsed": false
   },
   "outputs": [
    {
     "data": {
      "text/html": [
       "<table>\n",
       "<thead><tr><th scope=col>ACCIDENT_NO</th><th scope=col>ACCIDENTDATE</th><th scope=col>ACCIDENTTIME</th><th scope=col>ACCIDENT_TYPE</th><th scope=col>Accident.Type.Desc</th><th scope=col>DAY_OF_WEEK</th><th scope=col>Day.Week.Description</th><th scope=col>DCA_CODE</th><th scope=col>DCA.Description</th><th scope=col>DIRECTORY</th><th scope=col>⋯</th><th scope=col>NO_PERSONS</th><th scope=col>NO_PERSONS_INJ_2</th><th scope=col>NO_PERSONS_INJ_3</th><th scope=col>NO_PERSONS_KILLED</th><th scope=col>NO_PERSONS_NOT_INJ</th><th scope=col>POLICE_ATTEND</th><th scope=col>ROAD_GEOMETRY</th><th scope=col>Road.Geometry.Desc</th><th scope=col>SEVERITY</th><th scope=col>SPEED_ZONE</th></tr></thead>\n",
       "<tbody>\n",
       "\t<tr><td>T20060000010                                  </td><td>13/01/2006                                    </td><td>12.42.00                                      </td><td>1                                             </td><td>Collision with vehicle                        </td><td>6                                             </td><td>Friday                                        </td><td>113                                           </td><td>RIGHT NEAR (INTERSECTIONS ONLY)               </td><td>MEL                                           </td><td>⋯                                             </td><td>6                                             </td><td>0                                             </td><td>1                                             </td><td>0                                             </td><td>5                                             </td><td>1                                             </td><td>1                                             </td><td>Cross intersection                            </td><td>3                                             </td><td> 60                                           </td></tr>\n",
       "\t<tr><td>T20060000018                                  </td><td>13/01/2006                                    </td><td>19.10.00                                      </td><td>1                                             </td><td>Collision with vehicle                        </td><td>6                                             </td><td>Friday                                        </td><td>113                                           </td><td>RIGHT NEAR (INTERSECTIONS ONLY)               </td><td>MEL                                           </td><td>⋯                                             </td><td>4                                             </td><td>0                                             </td><td>1                                             </td><td>0                                             </td><td>3                                             </td><td>1                                             </td><td>2                                             </td><td>T intersection                                </td><td>3                                             </td><td> 70                                           </td></tr>\n",
       "\t<tr><td>T20060000022                                  </td><td>14/01/2006                                    </td><td>12.10.00                                      </td><td>7                                             </td><td>Fall from or in moving vehicle                </td><td>7                                             </td><td>Saturday                                      </td><td>190                                           </td><td>FELL IN/FROM VEHICLE                          </td><td>MEL                                           </td><td>⋯                                             </td><td>2                                             </td><td>1                                             </td><td>0                                             </td><td>0                                             </td><td>1                                             </td><td>1                                             </td><td>5                                             </td><td>Not at intersection                           </td><td>2                                             </td><td>100                                           </td></tr>\n",
       "\t<tr><td>T20060000023                                  </td><td>14/01/2006                                    </td><td>11.49.00                                      </td><td>1                                             </td><td>Collision with vehicle                        </td><td>7                                             </td><td>Saturday                                      </td><td>130                                           </td><td>REAR END(VEHICLES IN SAME LANE)               </td><td>MEL                                           </td><td>⋯                                             </td><td>2                                             </td><td>1                                             </td><td>0                                             </td><td>0                                             </td><td>1                                             </td><td>1                                             </td><td>2                                             </td><td>T intersection                                </td><td>2                                             </td><td> 80                                           </td></tr>\n",
       "\t<tr><td>T20060000026                                  </td><td>14/01/2006                                    </td><td>10.45.00                                      </td><td>1                                             </td><td>Collision with vehicle                        </td><td>7                                             </td><td>Saturday                                      </td><td>121                                           </td><td>RIGHT THROUGH                                 </td><td>MEL                                           </td><td>⋯                                             </td><td>3                                             </td><td>0                                             </td><td>3                                             </td><td>0                                             </td><td>0                                             </td><td>1                                             </td><td>5                                             </td><td>Not at intersection                           </td><td>3                                             </td><td> 50                                           </td></tr>\n",
       "\t<tr><td>T20060000028                                  </td><td>14/01/2006                                    </td><td>16.15.00                                      </td><td>1                                             </td><td>Collision with vehicle                        </td><td>6                                             </td><td>Saturday                                      </td><td>116                                           </td><td>LEFT NEAR (INTERSECTIONS ONLY)                </td><td>MEL                                           </td><td>⋯                                             </td><td>2                                             </td><td>1                                             </td><td>0                                             </td><td>0                                             </td><td>1                                             </td><td>1                                             </td><td>1                                             </td><td>Cross intersection                            </td><td>2                                             </td><td>100                                           </td></tr>\n",
       "</tbody>\n",
       "</table>\n"
      ],
      "text/latex": [
       "\\begin{tabular}{r|llllllllllllllllllllllllllll}\n",
       " ACCIDENT\\_NO & ACCIDENTDATE & ACCIDENTTIME & ACCIDENT\\_TYPE & Accident.Type.Desc & DAY\\_OF\\_WEEK & Day.Week.Description & DCA\\_CODE & DCA.Description & DIRECTORY & ⋯ & NO\\_PERSONS & NO\\_PERSONS\\_INJ\\_2 & NO\\_PERSONS\\_INJ\\_3 & NO\\_PERSONS\\_KILLED & NO\\_PERSONS\\_NOT\\_INJ & POLICE\\_ATTEND & ROAD\\_GEOMETRY & Road.Geometry.Desc & SEVERITY & SPEED\\_ZONE\\\\\n",
       "\\hline\n",
       "\t T20060000010                                   & 13/01/2006                                     & 12.42.00                                       & 1                                              & Collision with vehicle                         & 6                                              & Friday                                         & 113                                            & RIGHT NEAR (INTERSECTIONS ONLY)                & MEL                                            & ⋯                                              & 6                                              & 0                                              & 1                                              & 0                                              & 5                                              & 1                                              & 1                                              & Cross intersection                             & 3                                              &  60                                           \\\\\n",
       "\t T20060000018                                   & 13/01/2006                                     & 19.10.00                                       & 1                                              & Collision with vehicle                         & 6                                              & Friday                                         & 113                                            & RIGHT NEAR (INTERSECTIONS ONLY)                & MEL                                            & ⋯                                              & 4                                              & 0                                              & 1                                              & 0                                              & 3                                              & 1                                              & 2                                              & T intersection                                 & 3                                              &  70                                           \\\\\n",
       "\t T20060000022                                   & 14/01/2006                                     & 12.10.00                                       & 7                                              & Fall from or in moving vehicle                 & 7                                              & Saturday                                       & 190                                            & FELL IN/FROM VEHICLE                           & MEL                                            & ⋯                                              & 2                                              & 1                                              & 0                                              & 0                                              & 1                                              & 1                                              & 5                                              & Not at intersection                            & 2                                              & 100                                           \\\\\n",
       "\t T20060000023                                   & 14/01/2006                                     & 11.49.00                                       & 1                                              & Collision with vehicle                         & 7                                              & Saturday                                       & 130                                            & REAR END(VEHICLES IN SAME LANE)                & MEL                                            & ⋯                                              & 2                                              & 1                                              & 0                                              & 0                                              & 1                                              & 1                                              & 2                                              & T intersection                                 & 2                                              &  80                                           \\\\\n",
       "\t T20060000026                                   & 14/01/2006                                     & 10.45.00                                       & 1                                              & Collision with vehicle                         & 7                                              & Saturday                                       & 121                                            & RIGHT THROUGH                                  & MEL                                            & ⋯                                              & 3                                              & 0                                              & 3                                              & 0                                              & 0                                              & 1                                              & 5                                              & Not at intersection                            & 3                                              &  50                                           \\\\\n",
       "\t T20060000028                                   & 14/01/2006                                     & 16.15.00                                       & 1                                              & Collision with vehicle                         & 6                                              & Saturday                                       & 116                                            & LEFT NEAR (INTERSECTIONS ONLY)                 & MEL                                            & ⋯                                              & 2                                              & 1                                              & 0                                              & 0                                              & 1                                              & 1                                              & 1                                              & Cross intersection                             & 2                                              & 100                                           \\\\\n",
       "\\end{tabular}\n"
      ],
      "text/markdown": [
       "\n",
       "ACCIDENT_NO | ACCIDENTDATE | ACCIDENTTIME | ACCIDENT_TYPE | Accident.Type.Desc | DAY_OF_WEEK | Day.Week.Description | DCA_CODE | DCA.Description | DIRECTORY | ⋯ | NO_PERSONS | NO_PERSONS_INJ_2 | NO_PERSONS_INJ_3 | NO_PERSONS_KILLED | NO_PERSONS_NOT_INJ | POLICE_ATTEND | ROAD_GEOMETRY | Road.Geometry.Desc | SEVERITY | SPEED_ZONE | \n",
       "|---|---|---|---|---|---|\n",
       "| T20060000010                                   | 13/01/2006                                     | 12.42.00                                       | 1                                              | Collision with vehicle                         | 6                                              | Friday                                         | 113                                            | RIGHT NEAR (INTERSECTIONS ONLY)                | MEL                                            | ⋯                                              | 6                                              | 0                                              | 1                                              | 0                                              | 5                                              | 1                                              | 1                                              | Cross intersection                             | 3                                              |  60                                            | \n",
       "| T20060000018                                   | 13/01/2006                                     | 19.10.00                                       | 1                                              | Collision with vehicle                         | 6                                              | Friday                                         | 113                                            | RIGHT NEAR (INTERSECTIONS ONLY)                | MEL                                            | ⋯                                              | 4                                              | 0                                              | 1                                              | 0                                              | 3                                              | 1                                              | 2                                              | T intersection                                 | 3                                              |  70                                            | \n",
       "| T20060000022                                   | 14/01/2006                                     | 12.10.00                                       | 7                                              | Fall from or in moving vehicle                 | 7                                              | Saturday                                       | 190                                            | FELL IN/FROM VEHICLE                           | MEL                                            | ⋯                                              | 2                                              | 1                                              | 0                                              | 0                                              | 1                                              | 1                                              | 5                                              | Not at intersection                            | 2                                              | 100                                            | \n",
       "| T20060000023                                   | 14/01/2006                                     | 11.49.00                                       | 1                                              | Collision with vehicle                         | 7                                              | Saturday                                       | 130                                            | REAR END(VEHICLES IN SAME LANE)                | MEL                                            | ⋯                                              | 2                                              | 1                                              | 0                                              | 0                                              | 1                                              | 1                                              | 2                                              | T intersection                                 | 2                                              |  80                                            | \n",
       "| T20060000026                                   | 14/01/2006                                     | 10.45.00                                       | 1                                              | Collision with vehicle                         | 7                                              | Saturday                                       | 121                                            | RIGHT THROUGH                                  | MEL                                            | ⋯                                              | 3                                              | 0                                              | 3                                              | 0                                              | 0                                              | 1                                              | 5                                              | Not at intersection                            | 3                                              |  50                                            | \n",
       "| T20060000028                                   | 14/01/2006                                     | 16.15.00                                       | 1                                              | Collision with vehicle                         | 6                                              | Saturday                                       | 116                                            | LEFT NEAR (INTERSECTIONS ONLY)                 | MEL                                            | ⋯                                              | 2                                              | 1                                              | 0                                              | 0                                              | 1                                              | 1                                              | 1                                              | Cross intersection                             | 2                                              | 100                                            | \n",
       "\n",
       "\n"
      ],
      "text/plain": [
       "  ACCIDENT_NO  ACCIDENTDATE ACCIDENTTIME ACCIDENT_TYPE\n",
       "1 T20060000010 13/01/2006   12.42.00     1            \n",
       "2 T20060000018 13/01/2006   19.10.00     1            \n",
       "3 T20060000022 14/01/2006   12.10.00     7            \n",
       "4 T20060000023 14/01/2006   11.49.00     1            \n",
       "5 T20060000026 14/01/2006   10.45.00     1            \n",
       "6 T20060000028 14/01/2006   16.15.00     1            \n",
       "  Accident.Type.Desc             DAY_OF_WEEK Day.Week.Description DCA_CODE\n",
       "1 Collision with vehicle         6           Friday               113     \n",
       "2 Collision with vehicle         6           Friday               113     \n",
       "3 Fall from or in moving vehicle 7           Saturday             190     \n",
       "4 Collision with vehicle         7           Saturday             130     \n",
       "5 Collision with vehicle         7           Saturday             121     \n",
       "6 Collision with vehicle         6           Saturday             116     \n",
       "  DCA.Description                                DIRECTORY ⋯ NO_PERSONS\n",
       "1 RIGHT NEAR (INTERSECTIONS ONLY)                MEL       ⋯ 6         \n",
       "2 RIGHT NEAR (INTERSECTIONS ONLY)                MEL       ⋯ 4         \n",
       "3 FELL IN/FROM VEHICLE                           MEL       ⋯ 2         \n",
       "4 REAR END(VEHICLES IN SAME LANE)                MEL       ⋯ 2         \n",
       "5 RIGHT THROUGH                                  MEL       ⋯ 3         \n",
       "6 LEFT NEAR (INTERSECTIONS ONLY)                 MEL       ⋯ 2         \n",
       "  NO_PERSONS_INJ_2 NO_PERSONS_INJ_3 NO_PERSONS_KILLED NO_PERSONS_NOT_INJ\n",
       "1 0                1                0                 5                 \n",
       "2 0                1                0                 3                 \n",
       "3 1                0                0                 1                 \n",
       "4 1                0                0                 1                 \n",
       "5 0                3                0                 0                 \n",
       "6 1                0                0                 1                 \n",
       "  POLICE_ATTEND ROAD_GEOMETRY Road.Geometry.Desc  SEVERITY SPEED_ZONE\n",
       "1 1             1             Cross intersection  3         60       \n",
       "2 1             2             T intersection      3         70       \n",
       "3 1             5             Not at intersection 2        100       \n",
       "4 1             2             T intersection      2         80       \n",
       "5 1             5             Not at intersection 3         50       \n",
       "6 1             1             Cross intersection  2        100       "
      ]
     },
     "metadata": {},
     "output_type": "display_data"
    },
    {
     "name": "stdout",
     "output_type": "stream",
     "text": [
      "Attribute Names"
     ]
    },
    {
     "data": {
      "text/html": [
       "<ol class=list-inline>\n",
       "\t<li>'ACCIDENT_NO'</li>\n",
       "\t<li>'ACCIDENTDATE'</li>\n",
       "\t<li>'ACCIDENTTIME'</li>\n",
       "\t<li>'ACCIDENT_TYPE'</li>\n",
       "\t<li>'Accident.Type.Desc'</li>\n",
       "\t<li>'DAY_OF_WEEK'</li>\n",
       "\t<li>'Day.Week.Description'</li>\n",
       "\t<li>'DCA_CODE'</li>\n",
       "\t<li>'DCA.Description'</li>\n",
       "\t<li>'DIRECTORY'</li>\n",
       "\t<li>'EDITION'</li>\n",
       "\t<li>'PAGE'</li>\n",
       "\t<li>'GRID_REFERENCE_X'</li>\n",
       "\t<li>'GRID_REFERENCE_Y'</li>\n",
       "\t<li>'LIGHT_CONDITION'</li>\n",
       "\t<li>'Light.Condition.Desc'</li>\n",
       "\t<li>'NODE_ID'</li>\n",
       "\t<li>'NO_OF_VEHICLES'</li>\n",
       "\t<li>'NO_PERSONS'</li>\n",
       "\t<li>'NO_PERSONS_INJ_2'</li>\n",
       "\t<li>'NO_PERSONS_INJ_3'</li>\n",
       "\t<li>'NO_PERSONS_KILLED'</li>\n",
       "\t<li>'NO_PERSONS_NOT_INJ'</li>\n",
       "\t<li>'POLICE_ATTEND'</li>\n",
       "\t<li>'ROAD_GEOMETRY'</li>\n",
       "\t<li>'Road.Geometry.Desc'</li>\n",
       "\t<li>'SEVERITY'</li>\n",
       "\t<li>'SPEED_ZONE'</li>\n",
       "</ol>\n"
      ],
      "text/latex": [
       "\\begin{enumerate*}\n",
       "\\item 'ACCIDENT\\_NO'\n",
       "\\item 'ACCIDENTDATE'\n",
       "\\item 'ACCIDENTTIME'\n",
       "\\item 'ACCIDENT\\_TYPE'\n",
       "\\item 'Accident.Type.Desc'\n",
       "\\item 'DAY\\_OF\\_WEEK'\n",
       "\\item 'Day.Week.Description'\n",
       "\\item 'DCA\\_CODE'\n",
       "\\item 'DCA.Description'\n",
       "\\item 'DIRECTORY'\n",
       "\\item 'EDITION'\n",
       "\\item 'PAGE'\n",
       "\\item 'GRID\\_REFERENCE\\_X'\n",
       "\\item 'GRID\\_REFERENCE\\_Y'\n",
       "\\item 'LIGHT\\_CONDITION'\n",
       "\\item 'Light.Condition.Desc'\n",
       "\\item 'NODE\\_ID'\n",
       "\\item 'NO\\_OF\\_VEHICLES'\n",
       "\\item 'NO\\_PERSONS'\n",
       "\\item 'NO\\_PERSONS\\_INJ\\_2'\n",
       "\\item 'NO\\_PERSONS\\_INJ\\_3'\n",
       "\\item 'NO\\_PERSONS\\_KILLED'\n",
       "\\item 'NO\\_PERSONS\\_NOT\\_INJ'\n",
       "\\item 'POLICE\\_ATTEND'\n",
       "\\item 'ROAD\\_GEOMETRY'\n",
       "\\item 'Road.Geometry.Desc'\n",
       "\\item 'SEVERITY'\n",
       "\\item 'SPEED\\_ZONE'\n",
       "\\end{enumerate*}\n"
      ],
      "text/markdown": [
       "1. 'ACCIDENT_NO'\n",
       "2. 'ACCIDENTDATE'\n",
       "3. 'ACCIDENTTIME'\n",
       "4. 'ACCIDENT_TYPE'\n",
       "5. 'Accident.Type.Desc'\n",
       "6. 'DAY_OF_WEEK'\n",
       "7. 'Day.Week.Description'\n",
       "8. 'DCA_CODE'\n",
       "9. 'DCA.Description'\n",
       "10. 'DIRECTORY'\n",
       "11. 'EDITION'\n",
       "12. 'PAGE'\n",
       "13. 'GRID_REFERENCE_X'\n",
       "14. 'GRID_REFERENCE_Y'\n",
       "15. 'LIGHT_CONDITION'\n",
       "16. 'Light.Condition.Desc'\n",
       "17. 'NODE_ID'\n",
       "18. 'NO_OF_VEHICLES'\n",
       "19. 'NO_PERSONS'\n",
       "20. 'NO_PERSONS_INJ_2'\n",
       "21. 'NO_PERSONS_INJ_3'\n",
       "22. 'NO_PERSONS_KILLED'\n",
       "23. 'NO_PERSONS_NOT_INJ'\n",
       "24. 'POLICE_ATTEND'\n",
       "25. 'ROAD_GEOMETRY'\n",
       "26. 'Road.Geometry.Desc'\n",
       "27. 'SEVERITY'\n",
       "28. 'SPEED_ZONE'\n",
       "\n",
       "\n"
      ],
      "text/plain": [
       " [1] \"ACCIDENT_NO\"          \"ACCIDENTDATE\"         \"ACCIDENTTIME\"        \n",
       " [4] \"ACCIDENT_TYPE\"        \"Accident.Type.Desc\"   \"DAY_OF_WEEK\"         \n",
       " [7] \"Day.Week.Description\" \"DCA_CODE\"             \"DCA.Description\"     \n",
       "[10] \"DIRECTORY\"            \"EDITION\"              \"PAGE\"                \n",
       "[13] \"GRID_REFERENCE_X\"     \"GRID_REFERENCE_Y\"     \"LIGHT_CONDITION\"     \n",
       "[16] \"Light.Condition.Desc\" \"NODE_ID\"              \"NO_OF_VEHICLES\"      \n",
       "[19] \"NO_PERSONS\"           \"NO_PERSONS_INJ_2\"     \"NO_PERSONS_INJ_3\"    \n",
       "[22] \"NO_PERSONS_KILLED\"    \"NO_PERSONS_NOT_INJ\"   \"POLICE_ATTEND\"       \n",
       "[25] \"ROAD_GEOMETRY\"        \"Road.Geometry.Desc\"   \"SEVERITY\"            \n",
       "[28] \"SPEED_ZONE\"          "
      ]
     },
     "metadata": {},
     "output_type": "display_data"
    },
    {
     "name": "stdout",
     "output_type": "stream",
     "text": [
      "Listed Speed Zones"
     ]
    },
    {
     "data": {
      "text/html": [
       "<ol class=list-inline>\n",
       "\t<li>60</li>\n",
       "\t<li>70</li>\n",
       "\t<li>100</li>\n",
       "\t<li>80</li>\n",
       "\t<li>50</li>\n",
       "\t<li>110</li>\n",
       "\t<li>90</li>\n",
       "\t<li>75</li>\n",
       "\t<li>40</li>\n",
       "\t<li>999</li>\n",
       "\t<li>888</li>\n",
       "\t<li>777</li>\n",
       "\t<li>30</li>\n",
       "</ol>\n"
      ],
      "text/latex": [
       "\\begin{enumerate*}\n",
       "\\item 60\n",
       "\\item 70\n",
       "\\item 100\n",
       "\\item 80\n",
       "\\item 50\n",
       "\\item 110\n",
       "\\item 90\n",
       "\\item 75\n",
       "\\item 40\n",
       "\\item 999\n",
       "\\item 888\n",
       "\\item 777\n",
       "\\item 30\n",
       "\\end{enumerate*}\n"
      ],
      "text/markdown": [
       "1. 60\n",
       "2. 70\n",
       "3. 100\n",
       "4. 80\n",
       "5. 50\n",
       "6. 110\n",
       "7. 90\n",
       "8. 75\n",
       "9. 40\n",
       "10. 999\n",
       "11. 888\n",
       "12. 777\n",
       "13. 30\n",
       "\n",
       "\n"
      ],
      "text/plain": [
       " [1]  60  70 100  80  50 110  90  75  40 999 888 777  30"
      ]
     },
     "metadata": {},
     "output_type": "display_data"
    }
   ],
   "source": [
    "head(master)\n",
    "cat('Attribute Names')\n",
    "colnames(master)\n",
    "cat('Listed Speed Zones')\n",
    "unique(master$SPEED_ZONE)"
   ]
  },
  {
   "cell_type": "markdown",
   "metadata": {},
   "source": [
    "#### Subset of master table"
   ]
  },
  {
   "cell_type": "code",
   "execution_count": 36,
   "metadata": {
    "collapsed": true
   },
   "outputs": [],
   "source": [
    "master_keep_var <- c(1, 2, 3, 5, 7, 27, 28)\n",
    "master_s <- master[,master_keep_var]"
   ]
  },
  {
   "cell_type": "code",
   "execution_count": 37,
   "metadata": {
    "collapsed": false
   },
   "outputs": [
    {
     "data": {
      "text/html": [
       "<table>\n",
       "<thead><tr><th scope=col>ACCIDENT_NO</th><th scope=col>ACCIDENTDATE</th><th scope=col>ACCIDENTTIME</th><th scope=col>ACCIDENT_TYPE</th><th scope=col>Accident.Type.Desc</th><th scope=col>DAY_OF_WEEK</th><th scope=col>Day.Week.Description</th><th scope=col>DCA_CODE</th><th scope=col>DCA.Description</th><th scope=col>DIRECTORY</th><th scope=col>⋯</th><th scope=col>NO_PERSONS</th><th scope=col>NO_PERSONS_INJ_2</th><th scope=col>NO_PERSONS_INJ_3</th><th scope=col>NO_PERSONS_KILLED</th><th scope=col>NO_PERSONS_NOT_INJ</th><th scope=col>POLICE_ATTEND</th><th scope=col>ROAD_GEOMETRY</th><th scope=col>Road.Geometry.Desc</th><th scope=col>SEVERITY</th><th scope=col>SPEED_ZONE</th></tr></thead>\n",
       "<tbody>\n",
       "\t<tr><td>T20060000010                                  </td><td>13/01/2006                                    </td><td>12.42.00                                      </td><td>1                                             </td><td>Collision with vehicle                        </td><td>6                                             </td><td>Friday                                        </td><td>113                                           </td><td>RIGHT NEAR (INTERSECTIONS ONLY)               </td><td>MEL                                           </td><td>⋯                                             </td><td>6                                             </td><td>0                                             </td><td>1                                             </td><td>0                                             </td><td>5                                             </td><td>1                                             </td><td>1                                             </td><td>Cross intersection                            </td><td>3                                             </td><td> 60                                           </td></tr>\n",
       "\t<tr><td>T20060000018                                  </td><td>13/01/2006                                    </td><td>19.10.00                                      </td><td>1                                             </td><td>Collision with vehicle                        </td><td>6                                             </td><td>Friday                                        </td><td>113                                           </td><td>RIGHT NEAR (INTERSECTIONS ONLY)               </td><td>MEL                                           </td><td>⋯                                             </td><td>4                                             </td><td>0                                             </td><td>1                                             </td><td>0                                             </td><td>3                                             </td><td>1                                             </td><td>2                                             </td><td>T intersection                                </td><td>3                                             </td><td> 70                                           </td></tr>\n",
       "\t<tr><td>T20060000022                                  </td><td>14/01/2006                                    </td><td>12.10.00                                      </td><td>7                                             </td><td>Fall from or in moving vehicle                </td><td>7                                             </td><td>Saturday                                      </td><td>190                                           </td><td>FELL IN/FROM VEHICLE                          </td><td>MEL                                           </td><td>⋯                                             </td><td>2                                             </td><td>1                                             </td><td>0                                             </td><td>0                                             </td><td>1                                             </td><td>1                                             </td><td>5                                             </td><td>Not at intersection                           </td><td>2                                             </td><td>100                                           </td></tr>\n",
       "\t<tr><td>T20060000023                                  </td><td>14/01/2006                                    </td><td>11.49.00                                      </td><td>1                                             </td><td>Collision with vehicle                        </td><td>7                                             </td><td>Saturday                                      </td><td>130                                           </td><td>REAR END(VEHICLES IN SAME LANE)               </td><td>MEL                                           </td><td>⋯                                             </td><td>2                                             </td><td>1                                             </td><td>0                                             </td><td>0                                             </td><td>1                                             </td><td>1                                             </td><td>2                                             </td><td>T intersection                                </td><td>2                                             </td><td> 80                                           </td></tr>\n",
       "\t<tr><td>T20060000026                                  </td><td>14/01/2006                                    </td><td>10.45.00                                      </td><td>1                                             </td><td>Collision with vehicle                        </td><td>7                                             </td><td>Saturday                                      </td><td>121                                           </td><td>RIGHT THROUGH                                 </td><td>MEL                                           </td><td>⋯                                             </td><td>3                                             </td><td>0                                             </td><td>3                                             </td><td>0                                             </td><td>0                                             </td><td>1                                             </td><td>5                                             </td><td>Not at intersection                           </td><td>3                                             </td><td> 50                                           </td></tr>\n",
       "\t<tr><td>T20060000028                                  </td><td>14/01/2006                                    </td><td>16.15.00                                      </td><td>1                                             </td><td>Collision with vehicle                        </td><td>6                                             </td><td>Saturday                                      </td><td>116                                           </td><td>LEFT NEAR (INTERSECTIONS ONLY)                </td><td>MEL                                           </td><td>⋯                                             </td><td>2                                             </td><td>1                                             </td><td>0                                             </td><td>0                                             </td><td>1                                             </td><td>1                                             </td><td>1                                             </td><td>Cross intersection                            </td><td>2                                             </td><td>100                                           </td></tr>\n",
       "</tbody>\n",
       "</table>\n"
      ],
      "text/latex": [
       "\\begin{tabular}{r|llllllllllllllllllllllllllll}\n",
       " ACCIDENT\\_NO & ACCIDENTDATE & ACCIDENTTIME & ACCIDENT\\_TYPE & Accident.Type.Desc & DAY\\_OF\\_WEEK & Day.Week.Description & DCA\\_CODE & DCA.Description & DIRECTORY & ⋯ & NO\\_PERSONS & NO\\_PERSONS\\_INJ\\_2 & NO\\_PERSONS\\_INJ\\_3 & NO\\_PERSONS\\_KILLED & NO\\_PERSONS\\_NOT\\_INJ & POLICE\\_ATTEND & ROAD\\_GEOMETRY & Road.Geometry.Desc & SEVERITY & SPEED\\_ZONE\\\\\n",
       "\\hline\n",
       "\t T20060000010                                   & 13/01/2006                                     & 12.42.00                                       & 1                                              & Collision with vehicle                         & 6                                              & Friday                                         & 113                                            & RIGHT NEAR (INTERSECTIONS ONLY)                & MEL                                            & ⋯                                              & 6                                              & 0                                              & 1                                              & 0                                              & 5                                              & 1                                              & 1                                              & Cross intersection                             & 3                                              &  60                                           \\\\\n",
       "\t T20060000018                                   & 13/01/2006                                     & 19.10.00                                       & 1                                              & Collision with vehicle                         & 6                                              & Friday                                         & 113                                            & RIGHT NEAR (INTERSECTIONS ONLY)                & MEL                                            & ⋯                                              & 4                                              & 0                                              & 1                                              & 0                                              & 3                                              & 1                                              & 2                                              & T intersection                                 & 3                                              &  70                                           \\\\\n",
       "\t T20060000022                                   & 14/01/2006                                     & 12.10.00                                       & 7                                              & Fall from or in moving vehicle                 & 7                                              & Saturday                                       & 190                                            & FELL IN/FROM VEHICLE                           & MEL                                            & ⋯                                              & 2                                              & 1                                              & 0                                              & 0                                              & 1                                              & 1                                              & 5                                              & Not at intersection                            & 2                                              & 100                                           \\\\\n",
       "\t T20060000023                                   & 14/01/2006                                     & 11.49.00                                       & 1                                              & Collision with vehicle                         & 7                                              & Saturday                                       & 130                                            & REAR END(VEHICLES IN SAME LANE)                & MEL                                            & ⋯                                              & 2                                              & 1                                              & 0                                              & 0                                              & 1                                              & 1                                              & 2                                              & T intersection                                 & 2                                              &  80                                           \\\\\n",
       "\t T20060000026                                   & 14/01/2006                                     & 10.45.00                                       & 1                                              & Collision with vehicle                         & 7                                              & Saturday                                       & 121                                            & RIGHT THROUGH                                  & MEL                                            & ⋯                                              & 3                                              & 0                                              & 3                                              & 0                                              & 0                                              & 1                                              & 5                                              & Not at intersection                            & 3                                              &  50                                           \\\\\n",
       "\t T20060000028                                   & 14/01/2006                                     & 16.15.00                                       & 1                                              & Collision with vehicle                         & 6                                              & Saturday                                       & 116                                            & LEFT NEAR (INTERSECTIONS ONLY)                 & MEL                                            & ⋯                                              & 2                                              & 1                                              & 0                                              & 0                                              & 1                                              & 1                                              & 1                                              & Cross intersection                             & 2                                              & 100                                           \\\\\n",
       "\\end{tabular}\n"
      ],
      "text/markdown": [
       "\n",
       "ACCIDENT_NO | ACCIDENTDATE | ACCIDENTTIME | ACCIDENT_TYPE | Accident.Type.Desc | DAY_OF_WEEK | Day.Week.Description | DCA_CODE | DCA.Description | DIRECTORY | ⋯ | NO_PERSONS | NO_PERSONS_INJ_2 | NO_PERSONS_INJ_3 | NO_PERSONS_KILLED | NO_PERSONS_NOT_INJ | POLICE_ATTEND | ROAD_GEOMETRY | Road.Geometry.Desc | SEVERITY | SPEED_ZONE | \n",
       "|---|---|---|---|---|---|\n",
       "| T20060000010                                   | 13/01/2006                                     | 12.42.00                                       | 1                                              | Collision with vehicle                         | 6                                              | Friday                                         | 113                                            | RIGHT NEAR (INTERSECTIONS ONLY)                | MEL                                            | ⋯                                              | 6                                              | 0                                              | 1                                              | 0                                              | 5                                              | 1                                              | 1                                              | Cross intersection                             | 3                                              |  60                                            | \n",
       "| T20060000018                                   | 13/01/2006                                     | 19.10.00                                       | 1                                              | Collision with vehicle                         | 6                                              | Friday                                         | 113                                            | RIGHT NEAR (INTERSECTIONS ONLY)                | MEL                                            | ⋯                                              | 4                                              | 0                                              | 1                                              | 0                                              | 3                                              | 1                                              | 2                                              | T intersection                                 | 3                                              |  70                                            | \n",
       "| T20060000022                                   | 14/01/2006                                     | 12.10.00                                       | 7                                              | Fall from or in moving vehicle                 | 7                                              | Saturday                                       | 190                                            | FELL IN/FROM VEHICLE                           | MEL                                            | ⋯                                              | 2                                              | 1                                              | 0                                              | 0                                              | 1                                              | 1                                              | 5                                              | Not at intersection                            | 2                                              | 100                                            | \n",
       "| T20060000023                                   | 14/01/2006                                     | 11.49.00                                       | 1                                              | Collision with vehicle                         | 7                                              | Saturday                                       | 130                                            | REAR END(VEHICLES IN SAME LANE)                | MEL                                            | ⋯                                              | 2                                              | 1                                              | 0                                              | 0                                              | 1                                              | 1                                              | 2                                              | T intersection                                 | 2                                              |  80                                            | \n",
       "| T20060000026                                   | 14/01/2006                                     | 10.45.00                                       | 1                                              | Collision with vehicle                         | 7                                              | Saturday                                       | 121                                            | RIGHT THROUGH                                  | MEL                                            | ⋯                                              | 3                                              | 0                                              | 3                                              | 0                                              | 0                                              | 1                                              | 5                                              | Not at intersection                            | 3                                              |  50                                            | \n",
       "| T20060000028                                   | 14/01/2006                                     | 16.15.00                                       | 1                                              | Collision with vehicle                         | 6                                              | Saturday                                       | 116                                            | LEFT NEAR (INTERSECTIONS ONLY)                 | MEL                                            | ⋯                                              | 2                                              | 1                                              | 0                                              | 0                                              | 1                                              | 1                                              | 1                                              | Cross intersection                             | 2                                              | 100                                            | \n",
       "\n",
       "\n"
      ],
      "text/plain": [
       "  ACCIDENT_NO  ACCIDENTDATE ACCIDENTTIME ACCIDENT_TYPE\n",
       "1 T20060000010 13/01/2006   12.42.00     1            \n",
       "2 T20060000018 13/01/2006   19.10.00     1            \n",
       "3 T20060000022 14/01/2006   12.10.00     7            \n",
       "4 T20060000023 14/01/2006   11.49.00     1            \n",
       "5 T20060000026 14/01/2006   10.45.00     1            \n",
       "6 T20060000028 14/01/2006   16.15.00     1            \n",
       "  Accident.Type.Desc             DAY_OF_WEEK Day.Week.Description DCA_CODE\n",
       "1 Collision with vehicle         6           Friday               113     \n",
       "2 Collision with vehicle         6           Friday               113     \n",
       "3 Fall from or in moving vehicle 7           Saturday             190     \n",
       "4 Collision with vehicle         7           Saturday             130     \n",
       "5 Collision with vehicle         7           Saturday             121     \n",
       "6 Collision with vehicle         6           Saturday             116     \n",
       "  DCA.Description                                DIRECTORY ⋯ NO_PERSONS\n",
       "1 RIGHT NEAR (INTERSECTIONS ONLY)                MEL       ⋯ 6         \n",
       "2 RIGHT NEAR (INTERSECTIONS ONLY)                MEL       ⋯ 4         \n",
       "3 FELL IN/FROM VEHICLE                           MEL       ⋯ 2         \n",
       "4 REAR END(VEHICLES IN SAME LANE)                MEL       ⋯ 2         \n",
       "5 RIGHT THROUGH                                  MEL       ⋯ 3         \n",
       "6 LEFT NEAR (INTERSECTIONS ONLY)                 MEL       ⋯ 2         \n",
       "  NO_PERSONS_INJ_2 NO_PERSONS_INJ_3 NO_PERSONS_KILLED NO_PERSONS_NOT_INJ\n",
       "1 0                1                0                 5                 \n",
       "2 0                1                0                 3                 \n",
       "3 1                0                0                 1                 \n",
       "4 1                0                0                 1                 \n",
       "5 0                3                0                 0                 \n",
       "6 1                0                0                 1                 \n",
       "  POLICE_ATTEND ROAD_GEOMETRY Road.Geometry.Desc  SEVERITY SPEED_ZONE\n",
       "1 1             1             Cross intersection  3         60       \n",
       "2 1             2             T intersection      3         70       \n",
       "3 1             5             Not at intersection 2        100       \n",
       "4 1             2             T intersection      2         80       \n",
       "5 1             5             Not at intersection 3         50       \n",
       "6 1             1             Cross intersection  2        100       "
      ]
     },
     "metadata": {},
     "output_type": "display_data"
    }
   ],
   "source": [
    "head(master)"
   ]
  },
  {
   "cell_type": "markdown",
   "metadata": {},
   "source": [
    "#### Description of master accident\n",
    "The master table contains information on the crash in melbourne. The speedzone of the accident area is recorded, this provides an indication of the speed that the driver was driving at, of course it is reasonable to say that in some cases the driver was travelling faster that the speed zone.\n",
    "\n",
    "Other datasets related to the accident could be combined to get a better idea of the accident\n",
    "#### Data Wrangling"
   ]
  },
  {
   "cell_type": "code",
   "execution_count": 38,
   "metadata": {
    "collapsed": false
   },
   "outputs": [],
   "source": [
    "location_keep_var <- c(1,4,5,6,7)\n",
    "location_s <- location[, location_keep_var]\n",
    "\n",
    "exact_location_keep_var <- c(1, 10, 11, 12)\n",
    "exact_location_s <- exact_location[, exact_location_keep_var]\n",
    "\n",
    "weather_s <- weather[,c(1,4)]\n",
    "\n",
    "road_surface_s <- road_surface[,c(1,3)]\n",
    "\n",
    "vehicle_type_s <- vehicle_type[,c(1,3)]"
   ]
  },
  {
   "cell_type": "code",
   "execution_count": 137,
   "metadata": {
    "collapsed": false
   },
   "outputs": [
    {
     "name": "stderr",
     "output_type": "stream",
     "text": [
      "Joining, by = \"ACCIDENT_NO\"\n",
      "Joining, by = \"ACCIDENT_NO\"\n",
      "Warning message in inner_join_impl(x, y, by$x, by$y, suffix$x, suffix$y):\n",
      "“joining factors with different levels, coercing to character vector”Joining, by = \"ACCIDENT_NO\"\n",
      "Warning message in inner_join_impl(x, y, by$x, by$y, suffix$x, suffix$y):\n",
      "“joining character vector and factor, coercing into character vector”Joining, by = \"ACCIDENT_NO\"\n",
      "Warning message in inner_join_impl(x, y, by$x, by$y, suffix$x, suffix$y):\n",
      "“joining character vector and factor, coercing into character vector”Joining, by = \"ACCIDENT_NO\"\n",
      "Warning message in inner_join_impl(x, y, by$x, by$y, suffix$x, suffix$y):\n",
      "“joining character vector and factor, coercing into character vector”"
     ]
    }
   ],
   "source": [
    "melb_cc <- inner_join(master_s, location_s)\n",
    "melb_cc <- inner_join(melb_cc, exact_location_s)\n",
    "melb_cc <- inner_join(melb_cc, weather_s)\n",
    "melb_cc <- inner_join(melb_cc, road_surface_s)\n",
    "melb_cc <- inner_join(melb_cc, vehicle_type_s)"
   ]
  },
  {
   "cell_type": "markdown",
   "metadata": {},
   "source": [
    "#### View new dataset"
   ]
  },
  {
   "cell_type": "code",
   "execution_count": 138,
   "metadata": {
    "collapsed": false
   },
   "outputs": [
    {
     "data": {
      "text/html": [
       "<table>\n",
       "<thead><tr><th scope=col>ACCIDENT_NO</th><th scope=col>ACCIDENTDATE</th><th scope=col>ACCIDENTTIME</th><th scope=col>Accident.Type.Desc</th><th scope=col>Day.Week.Description</th><th scope=col>SEVERITY</th><th scope=col>SPEED_ZONE</th><th scope=col>ROAD_NAME</th><th scope=col>ROAD_TYPE</th><th scope=col>ROAD_NAME_INT</th><th scope=col>ROAD_TYPE_INT</th><th scope=col>Lat</th><th scope=col>Long</th><th scope=col>Postcode.No</th><th scope=col>Atmosph.Cond.Desc</th><th scope=col>Surface.Cond.Desc</th><th scope=col>VEHICLE_YEAR_MANUF</th></tr></thead>\n",
       "<tbody>\n",
       "\t<tr><td>T20060000010                  </td><td>13/01/2006                    </td><td>12.42.00                      </td><td>Collision with vehicle        </td><td>Friday                        </td><td>3                             </td><td> 60                           </td><td>FOSTER                        </td><td>STREET                        </td><td>MCCRAE                        </td><td>STREET                        </td><td>-37.98862                     </td><td>145.2181                      </td><td>3175                          </td><td>Clear                         </td><td>Dry                           </td><td>1996                          </td></tr>\n",
       "\t<tr><td>T20060000010                  </td><td>13/01/2006                    </td><td>12.42.00                      </td><td>Collision with vehicle        </td><td>Friday                        </td><td>3                             </td><td> 60                           </td><td>FOSTER                        </td><td>STREET                        </td><td>MCCRAE                        </td><td>STREET                        </td><td>-37.98862                     </td><td>145.2181                      </td><td>3175                          </td><td>Clear                         </td><td>Dry                           </td><td>2003                          </td></tr>\n",
       "\t<tr><td>T20060000010                  </td><td>13/01/2006                    </td><td>12.42.00                      </td><td>Collision with vehicle        </td><td>Friday                        </td><td>3                             </td><td> 60                           </td><td>FOSTER                        </td><td>STREET                        </td><td>MCCRAE                        </td><td>STREET                        </td><td>-37.98862                     </td><td>145.2181                      </td><td>3175                          </td><td>Clear                         </td><td>Dry                           </td><td>2001                          </td></tr>\n",
       "\t<tr><td>T20060000018                  </td><td>13/01/2006                    </td><td>19.10.00                      </td><td>Collision with vehicle        </td><td>Friday                        </td><td>3                             </td><td> 70                           </td><td>HALLAM                        </td><td>ROAD                          </td><td>BELGRAVE-HALLAM               </td><td>ROAD                          </td><td>-37.99092                     </td><td>145.2763                      </td><td>3804                          </td><td>Clear                         </td><td>Dry                           </td><td>1998                          </td></tr>\n",
       "\t<tr><td>T20060000018                  </td><td>13/01/2006                    </td><td>19.10.00                      </td><td>Collision with vehicle        </td><td>Friday                        </td><td>3                             </td><td> 70                           </td><td>HALLAM                        </td><td>ROAD                          </td><td>BELGRAVE-HALLAM               </td><td>ROAD                          </td><td>-37.99092                     </td><td>145.2763                      </td><td>3804                          </td><td>Clear                         </td><td>Dry                           </td><td>1991                          </td></tr>\n",
       "\t<tr><td>T20060000022                  </td><td>14/01/2006                    </td><td>12.10.00                      </td><td>Fall from or in moving vehicle</td><td>Saturday                      </td><td>2                             </td><td>100                           </td><td>BROWNS                        </td><td>ROAD                          </td><td>TRUEMANS                      </td><td>ROAD                          </td><td>-38.39632                     </td><td>144.8549                      </td><td>3939                          </td><td>Clear                         </td><td>Dry                           </td><td>1995                          </td></tr>\n",
       "</tbody>\n",
       "</table>\n"
      ],
      "text/latex": [
       "\\begin{tabular}{r|lllllllllllllllll}\n",
       " ACCIDENT\\_NO & ACCIDENTDATE & ACCIDENTTIME & Accident.Type.Desc & Day.Week.Description & SEVERITY & SPEED\\_ZONE & ROAD\\_NAME & ROAD\\_TYPE & ROAD\\_NAME\\_INT & ROAD\\_TYPE\\_INT & Lat & Long & Postcode.No & Atmosph.Cond.Desc & Surface.Cond.Desc & VEHICLE\\_YEAR\\_MANUF\\\\\n",
       "\\hline\n",
       "\t T20060000010                   & 13/01/2006                     & 12.42.00                       & Collision with vehicle         & Friday                         & 3                              &  60                            & FOSTER                         & STREET                         & MCCRAE                         & STREET                         & -37.98862                      & 145.2181                       & 3175                           & Clear                          & Dry                            & 1996                          \\\\\n",
       "\t T20060000010                   & 13/01/2006                     & 12.42.00                       & Collision with vehicle         & Friday                         & 3                              &  60                            & FOSTER                         & STREET                         & MCCRAE                         & STREET                         & -37.98862                      & 145.2181                       & 3175                           & Clear                          & Dry                            & 2003                          \\\\\n",
       "\t T20060000010                   & 13/01/2006                     & 12.42.00                       & Collision with vehicle         & Friday                         & 3                              &  60                            & FOSTER                         & STREET                         & MCCRAE                         & STREET                         & -37.98862                      & 145.2181                       & 3175                           & Clear                          & Dry                            & 2001                          \\\\\n",
       "\t T20060000018                   & 13/01/2006                     & 19.10.00                       & Collision with vehicle         & Friday                         & 3                              &  70                            & HALLAM                         & ROAD                           & BELGRAVE-HALLAM                & ROAD                           & -37.99092                      & 145.2763                       & 3804                           & Clear                          & Dry                            & 1998                          \\\\\n",
       "\t T20060000018                   & 13/01/2006                     & 19.10.00                       & Collision with vehicle         & Friday                         & 3                              &  70                            & HALLAM                         & ROAD                           & BELGRAVE-HALLAM                & ROAD                           & -37.99092                      & 145.2763                       & 3804                           & Clear                          & Dry                            & 1991                          \\\\\n",
       "\t T20060000022                   & 14/01/2006                     & 12.10.00                       & Fall from or in moving vehicle & Saturday                       & 2                              & 100                            & BROWNS                         & ROAD                           & TRUEMANS                       & ROAD                           & -38.39632                      & 144.8549                       & 3939                           & Clear                          & Dry                            & 1995                          \\\\\n",
       "\\end{tabular}\n"
      ],
      "text/markdown": [
       "\n",
       "ACCIDENT_NO | ACCIDENTDATE | ACCIDENTTIME | Accident.Type.Desc | Day.Week.Description | SEVERITY | SPEED_ZONE | ROAD_NAME | ROAD_TYPE | ROAD_NAME_INT | ROAD_TYPE_INT | Lat | Long | Postcode.No | Atmosph.Cond.Desc | Surface.Cond.Desc | VEHICLE_YEAR_MANUF | \n",
       "|---|---|---|---|---|---|\n",
       "| T20060000010                   | 13/01/2006                     | 12.42.00                       | Collision with vehicle         | Friday                         | 3                              |  60                            | FOSTER                         | STREET                         | MCCRAE                         | STREET                         | -37.98862                      | 145.2181                       | 3175                           | Clear                          | Dry                            | 1996                           | \n",
       "| T20060000010                   | 13/01/2006                     | 12.42.00                       | Collision with vehicle         | Friday                         | 3                              |  60                            | FOSTER                         | STREET                         | MCCRAE                         | STREET                         | -37.98862                      | 145.2181                       | 3175                           | Clear                          | Dry                            | 2003                           | \n",
       "| T20060000010                   | 13/01/2006                     | 12.42.00                       | Collision with vehicle         | Friday                         | 3                              |  60                            | FOSTER                         | STREET                         | MCCRAE                         | STREET                         | -37.98862                      | 145.2181                       | 3175                           | Clear                          | Dry                            | 2001                           | \n",
       "| T20060000018                   | 13/01/2006                     | 19.10.00                       | Collision with vehicle         | Friday                         | 3                              |  70                            | HALLAM                         | ROAD                           | BELGRAVE-HALLAM                | ROAD                           | -37.99092                      | 145.2763                       | 3804                           | Clear                          | Dry                            | 1998                           | \n",
       "| T20060000018                   | 13/01/2006                     | 19.10.00                       | Collision with vehicle         | Friday                         | 3                              |  70                            | HALLAM                         | ROAD                           | BELGRAVE-HALLAM                | ROAD                           | -37.99092                      | 145.2763                       | 3804                           | Clear                          | Dry                            | 1991                           | \n",
       "| T20060000022                   | 14/01/2006                     | 12.10.00                       | Fall from or in moving vehicle | Saturday                       | 2                              | 100                            | BROWNS                         | ROAD                           | TRUEMANS                       | ROAD                           | -38.39632                      | 144.8549                       | 3939                           | Clear                          | Dry                            | 1995                           | \n",
       "\n",
       "\n"
      ],
      "text/plain": [
       "  ACCIDENT_NO  ACCIDENTDATE ACCIDENTTIME Accident.Type.Desc            \n",
       "1 T20060000010 13/01/2006   12.42.00     Collision with vehicle        \n",
       "2 T20060000010 13/01/2006   12.42.00     Collision with vehicle        \n",
       "3 T20060000010 13/01/2006   12.42.00     Collision with vehicle        \n",
       "4 T20060000018 13/01/2006   19.10.00     Collision with vehicle        \n",
       "5 T20060000018 13/01/2006   19.10.00     Collision with vehicle        \n",
       "6 T20060000022 14/01/2006   12.10.00     Fall from or in moving vehicle\n",
       "  Day.Week.Description SEVERITY SPEED_ZONE ROAD_NAME ROAD_TYPE ROAD_NAME_INT  \n",
       "1 Friday               3         60        FOSTER    STREET    MCCRAE         \n",
       "2 Friday               3         60        FOSTER    STREET    MCCRAE         \n",
       "3 Friday               3         60        FOSTER    STREET    MCCRAE         \n",
       "4 Friday               3         70        HALLAM    ROAD      BELGRAVE-HALLAM\n",
       "5 Friday               3         70        HALLAM    ROAD      BELGRAVE-HALLAM\n",
       "6 Saturday             2        100        BROWNS    ROAD      TRUEMANS       \n",
       "  ROAD_TYPE_INT Lat       Long     Postcode.No Atmosph.Cond.Desc\n",
       "1 STREET        -37.98862 145.2181 3175        Clear            \n",
       "2 STREET        -37.98862 145.2181 3175        Clear            \n",
       "3 STREET        -37.98862 145.2181 3175        Clear            \n",
       "4 ROAD          -37.99092 145.2763 3804        Clear            \n",
       "5 ROAD          -37.99092 145.2763 3804        Clear            \n",
       "6 ROAD          -38.39632 144.8549 3939        Clear            \n",
       "  Surface.Cond.Desc VEHICLE_YEAR_MANUF\n",
       "1 Dry               1996              \n",
       "2 Dry               2003              \n",
       "3 Dry               2001              \n",
       "4 Dry               1998              \n",
       "5 Dry               1991              \n",
       "6 Dry               1995              "
      ]
     },
     "metadata": {},
     "output_type": "display_data"
    }
   ],
   "source": [
    "head(melb_cc)"
   ]
  },
  {
   "cell_type": "code",
   "execution_count": 139,
   "metadata": {
    "collapsed": false,
    "scrolled": true
   },
   "outputs": [
    {
     "name": "stdout",
     "output_type": "stream",
     "text": [
      "'data.frame':\t284756 obs. of  17 variables:\n",
      " $ ACCIDENT_NO         : chr  \"T20060000010\" \"T20060000010\" \"T20060000010\" \"T20060000018\" ...\n",
      " $ ACCIDENTDATE        : Factor w/ 4137 levels \"1/01/2006\",\"1/01/2007\",..: 545 545 545 545 545 681 681 681 681 681 ...\n",
      " $ ACCIDENTTIME        : Factor w/ 1439 levels \"00.00.00\",\"00.01.00\",..: 762 762 762 1150 1150 730 709 709 645 645 ...\n",
      " $ Accident.Type.Desc  : Factor w/ 9 levels \"Collision with a fixed object\",..: 3 3 3 3 3 4 3 3 3 3 ...\n",
      " $ Day.Week.Description: Factor w/ 7 levels \"Friday\",\"Monday\",..: 1 1 1 1 1 3 3 3 3 3 ...\n",
      " $ SEVERITY            : int  3 3 3 3 3 2 2 2 3 3 ...\n",
      " $ SPEED_ZONE          : int  60 60 60 70 70 100 80 80 50 50 ...\n",
      " $ ROAD_NAME           : Factor w/ 12301 levels \"\",\"13 MILE\",\"15 MILE\",..: 4427 4427 4427 5196 5196 1777 10612 10612 3933 3933 ...\n",
      " $ ROAD_TYPE           : Factor w/ 70 levels \"\",\"ACCESS\",\"ALLEY\",..: 59 59 59 55 55 55 55 55 5 5 ...\n",
      " $ ROAD_NAME_INT       : Factor w/ 18331 levels \"\",\"1 IN 10\",\"13 MILE\",..: 10432 10432 10432 1205 1205 16572 8571 8571 6670 6670 ...\n",
      " $ ROAD_TYPE_INT       : Factor w/ 94 levels \"\",\"ACCESS\",\"ALLEY\",..: 79 79 79 74 74 74 6 6 21 21 ...\n",
      " $ Lat                 : num  -38 -38 -38 -38 -38 ...\n",
      " $ Long                : num  145 145 145 145 145 ...\n",
      " $ Postcode.No         : int  3175 3175 3175 3804 3804 3939 3173 3173 3940 3940 ...\n",
      " $ Atmosph.Cond.Desc   : Factor w/ 8 levels \"Clear\",\"Dust\",..: 1 1 1 1 1 1 1 1 1 1 ...\n",
      " $ Surface.Cond.Desc   : Factor w/ 6 levels \"Dry\",\"Icy\",\"Muddy\",..: 1 1 1 1 1 1 1 1 1 1 ...\n",
      " $ VEHICLE_YEAR_MANUF  : int  1996 2003 2001 1998 1991 1995 1997 2004 1986 1996 ...\n"
     ]
    }
   ],
   "source": [
    "str(melb_cc)"
   ]
  },
  {
   "cell_type": "markdown",
   "metadata": {},
   "source": [
    "#### Rearranging columns"
   ]
  },
  {
   "cell_type": "code",
   "execution_count": 140,
   "metadata": {
    "collapsed": false
   },
   "outputs": [],
   "source": [
    "melb_cc['Date_Time'] <- paste(melb_cc$ACCIDENTDATE, ' ', melb_cc$ACCIDENTTIME)\n",
    "melb_cc_keep_var <- c(4:(length(colnames(melb_cc)) - 1))\n",
    "melb_cc <- melb_cc[,c(1, length(colnames(melb_cc)), melb_cc_keep_var)]"
   ]
  },
  {
   "cell_type": "markdown",
   "metadata": {},
   "source": [
    "#### Reconfiguring data types"
   ]
  },
  {
   "cell_type": "code",
   "execution_count": 141,
   "metadata": {
    "collapsed": false
   },
   "outputs": [],
   "source": [
    "melb_cc$Date_Time <- strptime(melb_cc$Date_Time, format = '%d/%m/%Y %H.%M.%S')\n",
    "melb_cc$Postcode.No <- as.factor(melb_cc$Postcode.No)\n",
    "melb_cc$VEHICLE_YEAR_MANUF <- as.factor(melb_cc$VEHICLE_YEAR_MANUF)"
   ]
  },
  {
   "cell_type": "code",
   "execution_count": 142,
   "metadata": {
    "collapsed": false
   },
   "outputs": [
    {
     "data": {
      "text/html": [
       "<table>\n",
       "<thead><tr><th scope=col>ACCIDENT_NO</th><th scope=col>Date_Time</th><th scope=col>Accident.Type.Desc</th><th scope=col>Day.Week.Description</th><th scope=col>SEVERITY</th><th scope=col>SPEED_ZONE</th><th scope=col>ROAD_NAME</th><th scope=col>ROAD_TYPE</th><th scope=col>ROAD_NAME_INT</th><th scope=col>ROAD_TYPE_INT</th><th scope=col>Lat</th><th scope=col>Long</th><th scope=col>Postcode.No</th><th scope=col>Atmosph.Cond.Desc</th><th scope=col>Surface.Cond.Desc</th><th scope=col>VEHICLE_YEAR_MANUF</th></tr></thead>\n",
       "<tbody>\n",
       "\t<tr><td>T20060000010          </td><td>2006-01-13 12:42:00   </td><td>Collision with vehicle</td><td>Friday                </td><td>3                     </td><td>60                    </td><td>FOSTER                </td><td>STREET                </td><td>MCCRAE                </td><td>STREET                </td><td>-37.98862             </td><td>145.2181              </td><td>3175                  </td><td>Clear                 </td><td>Dry                   </td><td>1996                  </td></tr>\n",
       "</tbody>\n",
       "</table>\n"
      ],
      "text/latex": [
       "\\begin{tabular}{r|llllllllllllllll}\n",
       " ACCIDENT\\_NO & Date\\_Time & Accident.Type.Desc & Day.Week.Description & SEVERITY & SPEED\\_ZONE & ROAD\\_NAME & ROAD\\_TYPE & ROAD\\_NAME\\_INT & ROAD\\_TYPE\\_INT & Lat & Long & Postcode.No & Atmosph.Cond.Desc & Surface.Cond.Desc & VEHICLE\\_YEAR\\_MANUF\\\\\n",
       "\\hline\n",
       "\t T20060000010           & 2006-01-13 12:42:00    & Collision with vehicle & Friday                 & 3                      & 60                     & FOSTER                 & STREET                 & MCCRAE                 & STREET                 & -37.98862              & 145.2181               & 3175                   & Clear                  & Dry                    & 1996                  \\\\\n",
       "\\end{tabular}\n"
      ],
      "text/markdown": [
       "\n",
       "ACCIDENT_NO | Date_Time | Accident.Type.Desc | Day.Week.Description | SEVERITY | SPEED_ZONE | ROAD_NAME | ROAD_TYPE | ROAD_NAME_INT | ROAD_TYPE_INT | Lat | Long | Postcode.No | Atmosph.Cond.Desc | Surface.Cond.Desc | VEHICLE_YEAR_MANUF | \n",
       "|---|\n",
       "| T20060000010           | 2006-01-13 12:42:00    | Collision with vehicle | Friday                 | 3                      | 60                     | FOSTER                 | STREET                 | MCCRAE                 | STREET                 | -37.98862              | 145.2181               | 3175                   | Clear                  | Dry                    | 1996                   | \n",
       "\n",
       "\n"
      ],
      "text/plain": [
       "  ACCIDENT_NO  Date_Time           Accident.Type.Desc     Day.Week.Description\n",
       "1 T20060000010 2006-01-13 12:42:00 Collision with vehicle Friday              \n",
       "  SEVERITY SPEED_ZONE ROAD_NAME ROAD_TYPE ROAD_NAME_INT ROAD_TYPE_INT Lat      \n",
       "1 3        60         FOSTER    STREET    MCCRAE        STREET        -37.98862\n",
       "  Long     Postcode.No Atmosph.Cond.Desc Surface.Cond.Desc VEHICLE_YEAR_MANUF\n",
       "1 145.2181 3175        Clear             Dry               1996              "
      ]
     },
     "metadata": {},
     "output_type": "display_data"
    }
   ],
   "source": [
    "head(melb_cc, 1)"
   ]
  },
  {
   "cell_type": "markdown",
   "metadata": {},
   "source": [
    "#### View of statistical summary"
   ]
  },
  {
   "cell_type": "code",
   "execution_count": 143,
   "metadata": {
    "collapsed": false
   },
   "outputs": [
    {
     "data": {
      "text/plain": [
       " ACCIDENT_NO          Date_Time                  \n",
       " Length:284756      Min.   :2006-01-01 00:01:00  \n",
       " Class :character   1st Qu.:2008-11-22 11:18:45  \n",
       " Mode  :character   Median :2011-10-06 17:15:00  \n",
       "                    Mean   :2011-09-12 09:44:18  \n",
       "                    3rd Qu.:2014-07-07 16:15:00  \n",
       "                    Max.   :2017-04-30 13:00:00  \n",
       "                                                 \n",
       "                         Accident.Type.Desc Day.Week.Description\n",
       " Collision with vehicle           :216701   Friday   :45779     \n",
       " Collision with a fixed object    : 28755   Monday   :38334     \n",
       " Struck Pedestrian                : 15952   Saturday :38335     \n",
       " No collision and no object struck: 10044   Sunday   :32740     \n",
       " Vehicle overturned (no collision):  8160   Thursday :44762     \n",
       " collision with some other object :  1908   Tuesday  :41790     \n",
       " (Other)                          :  3236   Wednesday:43016     \n",
       "    SEVERITY       SPEED_ZONE         ROAD_NAME        ROAD_TYPE     \n",
       " Min.   :1.000   Min.   : 30.0   PRINCES   :  7989   ROAD   :142064  \n",
       " 1st Qu.:2.000   1st Qu.: 60.0   HIGH      :  4578   STREET : 66959  \n",
       " Median :3.000   Median : 60.0   NEPEAN    :  3946   HIGHWAY: 28040  \n",
       " Mean   :2.637   Mean   :111.9   MONASH    :  2827   FREEWAY: 11996  \n",
       " 3rd Qu.:3.000   3rd Qu.: 80.0   SPRINGVALE:  2722   AVENUE :  7490  \n",
       " Max.   :4.000   Max.   :999.0   BURWOOD   :  2465   DRIVE  :  6641  \n",
       "                                 (Other)   :260229   (Other): 21566  \n",
       "    ROAD_NAME_INT    ROAD_TYPE_INT         Lat              Long      \n",
       " VICTORIA  :  1852   ROAD   :104595   Min.   :-39.03   Min.   :141.0  \n",
       " STATION   :  1701   STREET : 95711   1st Qu.:-37.95   1st Qu.:144.9  \n",
       "           :  1652   AVENUE : 16720   Median :-37.82   Median :145.0  \n",
       " HIGH      :  1633   DRIVE  : 15342   Mean   :-37.73   Mean   :145.0  \n",
       " PRINCES   :  1499   RAMP   : 11890   3rd Qu.:-37.73   3rd Qu.:145.2  \n",
       " WELLINGTON:  1220   LANE   :  6530   Max.   :-34.06   Max.   :149.8  \n",
       " (Other)   :275199   (Other): 33968                                   \n",
       "  Postcode.No        Atmosph.Cond.Desc  Surface.Cond.Desc VEHICLE_YEAR_MANUF\n",
       " 3175   :  5351   Clear       :228112   Dry    :223576    2005   : 14731    \n",
       " 3000   :  4959   Raining     : 30898   Icy    :   884    2006   : 13825    \n",
       " 3977   :  3355   Not known   : 18145   Muddy  :  1261    2004   : 13761    \n",
       " 3030   :  3294   Strong winds:  4151   Snowy  :   199    2007   : 13586    \n",
       " 3350   :  3139   Fog         :  2389   Unknown: 13289    2003   : 13480    \n",
       " 3121   :  2887   Dust        :   630   Wet    : 45547    (Other):191649    \n",
       " (Other):261771   (Other)     :   431                     NA's   : 23724    "
      ]
     },
     "metadata": {},
     "output_type": "display_data"
    }
   ],
   "source": [
    "summary(melb_cc)"
   ]
  },
  {
   "cell_type": "markdown",
   "metadata": {},
   "source": [
    "### Description of car crash data\n",
    "Other datasets were combined to the master accident table to create a powerful dataset that shows information relating to the crash such as the day of the week, coordinates, road condition, weather and the year of manafacture. The crash data started from 2006 to 2017,  <b>'Collision with vehicle'</b> is the most popular <b>accident type</b>, and most accident occuring in low <b>speed zone</b> of <b>60</b>.\n",
    "\n",
    "#### Types of accident"
   ]
  },
  {
   "cell_type": "code",
   "execution_count": 144,
   "metadata": {
    "collapsed": false
   },
   "outputs": [
    {
     "data": {
      "text/html": [
       "<table>\n",
       "<thead><tr><th scope=col>index</th><th scope=col>Var1</th><th scope=col>Freq</th></tr></thead>\n",
       "<tbody>\n",
       "\t<tr><td>1                                </td><td>Collision with a fixed object    </td><td> 28755                           </td></tr>\n",
       "\t<tr><td>2                                </td><td>collision with some other object </td><td>  1908                           </td></tr>\n",
       "\t<tr><td>3                                </td><td>Collision with vehicle           </td><td>216701                           </td></tr>\n",
       "\t<tr><td>4                                </td><td>Fall from or in moving vehicle   </td><td>  1564                           </td></tr>\n",
       "\t<tr><td>5                                </td><td>No collision and no object struck</td><td> 10044                           </td></tr>\n",
       "\t<tr><td>6                                </td><td>Other accident                   </td><td>   109                           </td></tr>\n",
       "\t<tr><td>7                                </td><td>Struck animal                    </td><td>  1563                           </td></tr>\n",
       "\t<tr><td>8                                </td><td>Struck Pedestrian                </td><td> 15952                           </td></tr>\n",
       "\t<tr><td>9                                </td><td>Vehicle overturned (no collision)</td><td>  8160                           </td></tr>\n",
       "</tbody>\n",
       "</table>\n"
      ],
      "text/latex": [
       "\\begin{tabular}{r|lll}\n",
       " index & Var1 & Freq\\\\\n",
       "\\hline\n",
       "\t 1                                 & Collision with a fixed object     &  28755                           \\\\\n",
       "\t 2                                 & collision with some other object  &   1908                           \\\\\n",
       "\t 3                                 & Collision with vehicle            & 216701                           \\\\\n",
       "\t 4                                 & Fall from or in moving vehicle    &   1564                           \\\\\n",
       "\t 5                                 & No collision and no object struck &  10044                           \\\\\n",
       "\t 6                                 & Other accident                    &    109                           \\\\\n",
       "\t 7                                 & Struck animal                     &   1563                           \\\\\n",
       "\t 8                                 & Struck Pedestrian                 &  15952                           \\\\\n",
       "\t 9                                 & Vehicle overturned (no collision) &   8160                           \\\\\n",
       "\\end{tabular}\n"
      ],
      "text/markdown": [
       "\n",
       "index | Var1 | Freq | \n",
       "|---|---|---|---|---|---|---|---|---|\n",
       "| 1                                 | Collision with a fixed object     |  28755                            | \n",
       "| 2                                 | collision with some other object  |   1908                            | \n",
       "| 3                                 | Collision with vehicle            | 216701                            | \n",
       "| 4                                 | Fall from or in moving vehicle    |   1564                            | \n",
       "| 5                                 | No collision and no object struck |  10044                            | \n",
       "| 6                                 | Other accident                    |    109                            | \n",
       "| 7                                 | Struck animal                     |   1563                            | \n",
       "| 8                                 | Struck Pedestrian                 |  15952                            | \n",
       "| 9                                 | Vehicle overturned (no collision) |   8160                            | \n",
       "\n",
       "\n"
      ],
      "text/plain": [
       "  index Var1                              Freq  \n",
       "1 1     Collision with a fixed object      28755\n",
       "2 2     collision with some other object    1908\n",
       "3 3     Collision with vehicle            216701\n",
       "4 4     Fall from or in moving vehicle      1564\n",
       "5 5     No collision and no object struck  10044\n",
       "6 6     Other accident                       109\n",
       "7 7     Struck animal                       1563\n",
       "8 8     Struck Pedestrian                  15952\n",
       "9 9     Vehicle overturned (no collision)   8160"
      ]
     },
     "metadata": {},
     "output_type": "display_data"
    },
    {
     "data": {
      "image/png": "[encoded data removed]",
      "text/plain": [
       "plot without title"
      ]
     },
     "metadata": {},
     "output_type": "display_data"
    }
   ],
   "source": [
    "freq_melb_cc <- as.data.frame(table(melb_cc$Accident.Type.Desc))\n",
    "freq_melb_cc['index'] <- 1:length(unique(melb_cc$Accident.Type.Desc))\n",
    "freq_melb_cc <- freq_melb_cc[ ,c(3,1,2)]\n",
    "barplot(table(melb_cc$Accident.Type.Desc), names.arg = c(1:9))\n",
    "freq_melb_cc"
   ]
  },
  {
   "cell_type": "markdown",
   "metadata": {},
   "source": [
    "### Accident type and Speed Zone\n",
    "Accident type is an important factor to determine whether speed is the main cause of accident. The main cause of accident seems to be <i>Collision with vehicle</i>, second is <i>Collision with a fixed object</i>, and disregarding <i>Other accident</i>, the least likely accident was 'Struck animal'\n",
    "\n",
    "Considering that the main purporse of the research is to determine whether speed has an affect on accident, accidents such as <i>Fall from or in moving vehicle, No collision and no object struck, Other accident and Struck animal</i> are less likely to occur with accident at high speed, as we are more interested on the fact that driver are likely to lose control and crash. Nevertheless, some questions that may raise are stricking an animal and strucking a pedastrian. In most cases, high speed area are usually highways, and pedastrian are not permitted to access, but in the case of animals, this is possible such as on the highway to the outer region of Melbourne, where there are wildlife. \n",
    "\n",
    "In this case, cars driving at high speed are likely to hit the animal or pedastrian, rather than those that can stop in time at low speed. It would be a good idea to check how speed limit affects the type of accidents, we will look at this based on speed zone intervals. There are some missing speed zones, default values such as 9999, 888, 777, 30 were used. These will be excluded from the data\n",
    "\n",
    "#### Speedzone and accident type"
   ]
  },
  {
   "cell_type": "code",
   "execution_count": 145,
   "metadata": {
    "collapsed": true
   },
   "outputs": [],
   "source": [
    "melb_cc_exc <- melb_cc[!melb_cc$SPEED_ZONE %in% c(999, 888, 777), ]"
   ]
  },
  {
   "cell_type": "code",
   "execution_count": 147,
   "metadata": {
    "collapsed": false
   },
   "outputs": [],
   "source": [
    "melb_cc_less_60 <- melb_cc_exc[melb_cc_exc$SPEED_ZONE <= 60, ]\n",
    "melb_cc_60_70 <- melb_cc_exc[melb_cc_exc$SPEED_ZONE > 60 & melb_cc_exc$SPEED_ZONE <= 70, ]\n",
    "melb_cc_g70_80 <- melb_cc_exc[melb_cc_exc$SPEED_ZONE > 70 & melb_cc_exc$SPEED_ZONE <= 80, ]\n",
    "melb_cc_g80_100 <- melb_cc_exc[melb_cc_exc$SPEED_ZONE > 80 & melb_cc_exc$SPEED_ZONE <= 100, ]\n",
    "melb_cc_greater_100 <- melb_cc_exc[melb_cc_exc$SPEED_ZONE > 100, ]"
   ]
  },
  {
   "cell_type": "code",
   "execution_count": null,
   "metadata": {
    "collapsed": true
   },
   "outputs": [],
   "source": []
  }
 ],
 "metadata": {
  "kernelspec": {
   "display_name": "R",
   "language": "R",
   "name": "ir"
  },
  "language_info": {
   "codemirror_mode": "r",
   "file_extension": ".r",
   "mimetype": "text/x-r-source",
   "name": "R",
   "pygments_lexer": "r",
   "version": "3.3.2"
  }
 },
 "nbformat": 4,
 "nbformat_minor": 2
}
